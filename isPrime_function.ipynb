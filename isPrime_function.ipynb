{
 "cells": [
  {
   "cell_type": "code",
   "execution_count": 3,
   "metadata": {},
   "outputs": [
    {
     "name": "stdout",
     "output_type": "stream",
     "text": [
      "please input:7\n",
      "True\n"
     ]
    }
   ],
   "source": [
    "def isPrime():\n",
    "        a=eval(input('please input:'))\n",
    "        if a<=1:\n",
    "            print('error')\n",
    "        for i in range(2,a):\n",
    "            if a%i==0:\n",
    "                print('False')\n",
    "                break\n",
    "        else:\n",
    "            print('True')\n",
    "            \n",
    "\n",
    "isPrime()\n",
    "            "
   ]
  },
  {
   "cell_type": "code",
   "execution_count": 4,
   "metadata": {},
   "outputs": [
    {
     "name": "stdout",
     "output_type": "stream",
     "text": [
      "please input:5\n",
      "True\n"
     ]
    }
   ],
   "source": [
    "def isPrime(n):\n",
    "        if n<=1:\n",
    "            print('error')\n",
    "        for i in range(2,n):\n",
    "            if n%i==0:\n",
    "                print('False')\n",
    "                break\n",
    "        else:\n",
    "            print('True')\n",
    "            \n",
    "a=eval(input('please input:'))\n",
    "isPrime(a)\n",
    "            "
   ]
  },
  {
   "cell_type": "code",
   "execution_count": null,
   "metadata": {},
   "outputs": [],
   "source": []
  }
 ],
 "metadata": {
  "kernelspec": {
   "display_name": "Python 3",
   "language": "python",
   "name": "python3"
  },
  "language_info": {
   "codemirror_mode": {
    "name": "ipython",
    "version": 3
   },
   "file_extension": ".py",
   "mimetype": "text/x-python",
   "name": "python",
   "nbconvert_exporter": "python",
   "pygments_lexer": "ipython3",
   "version": "3.7.4"
  }
 },
 "nbformat": 4,
 "nbformat_minor": 2
}
